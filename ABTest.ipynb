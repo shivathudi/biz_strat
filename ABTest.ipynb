{
 "cells": [
  {
   "cell_type": "code",
   "execution_count": 6,
   "metadata": {
    "collapsed": true
   },
   "outputs": [],
   "source": [
    "import numpy as np\n",
    "import pandas as pd\n",
    "from datetime import datetime\n",
    "\n",
    "from scipy.stats import norm"
   ]
  },
  {
   "cell_type": "code",
   "execution_count": 7,
   "metadata": {
    "collapsed": false
   },
   "outputs": [],
   "source": [
    "df_nb = pd.read_csv('NueBevABTest.csv')\n",
    "df_nb['Customer Begin'] = pd.to_datetime(df_nb['Customer Begin'], errors='coerce')\n",
    "df_nb['Customer End'] = pd.to_datetime(df_nb['Customer End'], errors='coerce')"
   ]
  },
  {
   "cell_type": "code",
   "execution_count": 8,
   "metadata": {
    "collapsed": false,
    "scrolled": true
   },
   "outputs": [
    {
     "data": {
      "text/html": [
       "<div>\n",
       "<table border=\"1\" class=\"dataframe\">\n",
       "  <thead>\n",
       "    <tr style=\"text-align: right;\">\n",
       "      <th></th>\n",
       "      <th>Client number</th>\n",
       "      <th>Region</th>\n",
       "      <th>Customer Begin</th>\n",
       "      <th>Customer End</th>\n",
       "      <th>Churned</th>\n",
       "      <th>Margin Group</th>\n",
       "      <th>Account Size</th>\n",
       "    </tr>\n",
       "  </thead>\n",
       "  <tbody>\n",
       "    <tr>\n",
       "      <th>0</th>\n",
       "      <td>6025</td>\n",
       "      <td>Los Angeles</td>\n",
       "      <td>2016-06-24</td>\n",
       "      <td>2017-01-27</td>\n",
       "      <td>False</td>\n",
       "      <td>High</td>\n",
       "      <td>Medium</td>\n",
       "    </tr>\n",
       "    <tr>\n",
       "      <th>1</th>\n",
       "      <td>7586</td>\n",
       "      <td>Los Angeles</td>\n",
       "      <td>2016-03-10</td>\n",
       "      <td>2017-01-24</td>\n",
       "      <td>False</td>\n",
       "      <td>High</td>\n",
       "      <td>Large</td>\n",
       "    </tr>\n",
       "    <tr>\n",
       "      <th>2</th>\n",
       "      <td>9740</td>\n",
       "      <td>Los Angeles</td>\n",
       "      <td>2016-02-26</td>\n",
       "      <td>2016-12-09</td>\n",
       "      <td>True</td>\n",
       "      <td>High</td>\n",
       "      <td>Large</td>\n",
       "    </tr>\n",
       "    <tr>\n",
       "      <th>3</th>\n",
       "      <td>1112</td>\n",
       "      <td>Toronto</td>\n",
       "      <td>2016-07-05</td>\n",
       "      <td>2016-10-28</td>\n",
       "      <td>True</td>\n",
       "      <td>Low</td>\n",
       "      <td>Small</td>\n",
       "    </tr>\n",
       "    <tr>\n",
       "      <th>4</th>\n",
       "      <td>1223</td>\n",
       "      <td>Toronto</td>\n",
       "      <td>2015-04-27</td>\n",
       "      <td>2017-01-31</td>\n",
       "      <td>False</td>\n",
       "      <td>Low</td>\n",
       "      <td>Medium</td>\n",
       "    </tr>\n",
       "    <tr>\n",
       "      <th>5</th>\n",
       "      <td>1249</td>\n",
       "      <td>Toronto</td>\n",
       "      <td>2015-08-26</td>\n",
       "      <td>2017-01-25</td>\n",
       "      <td>False</td>\n",
       "      <td>Low</td>\n",
       "      <td>Medium</td>\n",
       "    </tr>\n",
       "    <tr>\n",
       "      <th>6</th>\n",
       "      <td>1318</td>\n",
       "      <td>Toronto</td>\n",
       "      <td>2016-06-01</td>\n",
       "      <td>2016-09-21</td>\n",
       "      <td>True</td>\n",
       "      <td>High</td>\n",
       "      <td>Medium</td>\n",
       "    </tr>\n",
       "    <tr>\n",
       "      <th>7</th>\n",
       "      <td>1667</td>\n",
       "      <td>Toronto</td>\n",
       "      <td>2015-09-18</td>\n",
       "      <td>2017-01-20</td>\n",
       "      <td>False</td>\n",
       "      <td>High</td>\n",
       "      <td>Large</td>\n",
       "    </tr>\n",
       "    <tr>\n",
       "      <th>8</th>\n",
       "      <td>2090</td>\n",
       "      <td>Toronto</td>\n",
       "      <td>2016-05-12</td>\n",
       "      <td>2016-12-22</td>\n",
       "      <td>True</td>\n",
       "      <td>Low</td>\n",
       "      <td>Medium</td>\n",
       "    </tr>\n",
       "    <tr>\n",
       "      <th>9</th>\n",
       "      <td>2267</td>\n",
       "      <td>Toronto</td>\n",
       "      <td>2015-10-19</td>\n",
       "      <td>2016-12-19</td>\n",
       "      <td>True</td>\n",
       "      <td>Low</td>\n",
       "      <td>Large</td>\n",
       "    </tr>\n",
       "  </tbody>\n",
       "</table>\n",
       "</div>"
      ],
      "text/plain": [
       "   Client number       Region Customer Begin Customer End Churned  \\\n",
       "0           6025  Los Angeles     2016-06-24   2017-01-27   False   \n",
       "1           7586  Los Angeles     2016-03-10   2017-01-24   False   \n",
       "2           9740  Los Angeles     2016-02-26   2016-12-09    True   \n",
       "3           1112      Toronto     2016-07-05   2016-10-28    True   \n",
       "4           1223      Toronto     2015-04-27   2017-01-31   False   \n",
       "5           1249      Toronto     2015-08-26   2017-01-25   False   \n",
       "6           1318      Toronto     2016-06-01   2016-09-21    True   \n",
       "7           1667      Toronto     2015-09-18   2017-01-20   False   \n",
       "8           2090      Toronto     2016-05-12   2016-12-22    True   \n",
       "9           2267      Toronto     2015-10-19   2016-12-19    True   \n",
       "\n",
       "  Margin Group Account Size  \n",
       "0         High       Medium  \n",
       "1         High        Large  \n",
       "2         High        Large  \n",
       "3          Low        Small  \n",
       "4          Low       Medium  \n",
       "5          Low       Medium  \n",
       "6         High       Medium  \n",
       "7         High        Large  \n",
       "8          Low       Medium  \n",
       "9          Low        Large  "
      ]
     },
     "execution_count": 8,
     "metadata": {},
     "output_type": "execute_result"
    }
   ],
   "source": [
    "df_nb.head(10)"
   ]
  },
  {
   "cell_type": "markdown",
   "metadata": {},
   "source": [
    "# Question 1"
   ]
  },
  {
   "cell_type": "code",
   "execution_count": 9,
   "metadata": {
    "collapsed": false
   },
   "outputs": [],
   "source": [
    "def check_active(begin, end, check_date):\n",
    "    return (begin < check_date) and (check_date <= end)"
   ]
  },
  {
   "cell_type": "code",
   "execution_count": 10,
   "metadata": {
    "collapsed": false
   },
   "outputs": [],
   "source": [
    "for check_date in [datetime(2016, 9, 9), datetime(2016, 10, 1), datetime(2016, 11, 1),\n",
    "              datetime(2016, 12, 1), datetime(2017, 1, 1), datetime(2017, 1, 27)]:\n",
    "    df_nb['active_prior_to_%s' % check_date.strftime(\"%m%d%y\")] = \\\n",
    "        df_nb.apply(lambda line: check_active(line['Customer Begin'], line['Customer End'], check_date), axis=1)\n"
   ]
  },
  {
   "cell_type": "code",
   "execution_count": 12,
   "metadata": {
    "collapsed": false
   },
   "outputs": [
    {
     "data": {
      "text/plain": [
       "254"
      ]
     },
     "execution_count": 12,
     "metadata": {},
     "output_type": "execute_result"
    }
   ],
   "source": [
    "len(df_nb['Client number'].unique())"
   ]
  },
  {
   "cell_type": "code",
   "execution_count": 11,
   "metadata": {
    "collapsed": false,
    "scrolled": true
   },
   "outputs": [
    {
     "data": {
      "text/plain": [
       "Client number             1426568.0\n",
       "Churned                        46.0\n",
       "active_prior_to_090916        253.0\n",
       "active_prior_to_100116        246.0\n",
       "active_prior_to_110116        227.0\n",
       "active_prior_to_120116        217.0\n",
       "active_prior_to_010117        208.0\n",
       "active_prior_to_012717        145.0\n",
       "dtype: float64"
      ]
     },
     "execution_count": 11,
     "metadata": {},
     "output_type": "execute_result"
    }
   ],
   "source": [
    "df_nb.sum()"
   ]
  },
  {
   "cell_type": "code",
   "execution_count": 164,
   "metadata": {
    "collapsed": false
   },
   "outputs": [
    {
     "name": "stdout",
     "output_type": "stream",
     "text": [
      "September churn rate: 0.0276679841897\n",
      "October churn rate: 0.0772357723577\n",
      "November churn rate: 0.0440528634361\n",
      "December churn rate: 0.0414746543779\n",
      "January churn rate: 0.302884615385\n",
      "Overall monthly churn rate: 0.0938314509123\n"
     ]
    }
   ],
   "source": [
    "print \"September churn rate:\", 1-df_nb.sum()['active_prior_to_100116'] / df_nb.sum()['active_prior_to_090916']\n",
    "print \"October churn rate:\", 1-df_nb.sum()['active_prior_to_110116'] / df_nb.sum()['active_prior_to_100116']\n",
    "print \"November churn rate:\", 1-df_nb.sum()['active_prior_to_120116'] / df_nb.sum()['active_prior_to_110116']\n",
    "print \"December churn rate:\", 1-df_nb.sum()['active_prior_to_010117'] / df_nb.sum()['active_prior_to_120116']\n",
    "print \"January churn rate:\", 1-df_nb.sum()['active_prior_to_012717'] / df_nb.sum()['active_prior_to_010117']\n",
    "\n",
    "print \"Overall monthly churn rate:\", 1-sum(df_nb.sum()[3:8]) / sum(df_nb.sum()[2:7])"
   ]
  },
  {
   "cell_type": "code",
   "execution_count": 165,
   "metadata": {
    "collapsed": false
   },
   "outputs": [],
   "source": [
    "df_active_both = df_nb.sum()"
   ]
  },
  {
   "cell_type": "code",
   "execution_count": 170,
   "metadata": {
    "collapsed": false
   },
   "outputs": [],
   "source": [
    "churn_rates = [1-df_active_both[i+1]/df_active_both[i] for i in range(2,7)]"
   ]
  },
  {
   "cell_type": "code",
   "execution_count": 187,
   "metadata": {
    "collapsed": false
   },
   "outputs": [
    {
     "data": {
      "text/plain": [
       "0.4268774703557312"
      ]
     },
     "execution_count": 187,
     "metadata": {},
     "output_type": "execute_result"
    }
   ],
   "source": [
    "1-df_active_both[-1]/df_active_both[2]"
   ]
  },
  {
   "cell_type": "markdown",
   "metadata": {},
   "source": [
    "# Question 2"
   ]
  },
  {
   "cell_type": "markdown",
   "metadata": {},
   "source": [
    "# Question 3"
   ]
  },
  {
   "cell_type": "markdown",
   "metadata": {},
   "source": [
    "AB test\n",
    "\n",
    "1. Randomly assign clients to two groups(low/high margin).\n",
    "2. Check the monthly churn rate for two groups.\n",
    "3. Compare and calculate the p-value\n",
    "\n",
    "\n",
    "Potential risks\n",
    "\n",
    "1. Different factors of companies <- randomize these\n",
    "    \n",
    "    \n",
    "    - Region\n",
    "    - Account size\n",
    "    - How long they had been using the service\n",
    "\n",
    "2. Company might lose alot of money from the test\n",
    "\n",
    "3. Other factors not in the data"
   ]
  },
  {
   "cell_type": "markdown",
   "metadata": {},
   "source": [
    "# Question 4"
   ]
  },
  {
   "cell_type": "markdown",
   "metadata": {},
   "source": [
    "Compare proportion.\n",
    "\n",
    "reject means/goodness of fit.\n",
    "We are not calculating mean, so we did not use AB test on means\n",
    "We are only working with two groups with two outcomes, so we don't need goodness of fit."
   ]
  },
  {
   "cell_type": "markdown",
   "metadata": {},
   "source": [
    "# Question 5"
   ]
  },
  {
   "cell_type": "markdown",
   "metadata": {},
   "source": [
    "Null Hypothesis: Churn rate is the same bewteen two margin groups"
   ]
  },
  {
   "cell_type": "markdown",
   "metadata": {},
   "source": [
    "# Question 6"
   ]
  },
  {
   "cell_type": "markdown",
   "metadata": {},
   "source": [
    "Alternate Hypothesis: Churn rate is not the same bewteen two margin groups"
   ]
  },
  {
   "cell_type": "markdown",
   "metadata": {},
   "source": [
    "# Question 7"
   ]
  },
  {
   "cell_type": "code",
   "execution_count": 197,
   "metadata": {
    "collapsed": true
   },
   "outputs": [],
   "source": [
    "df_active = df_nb.groupby('Margin Group').sum()"
   ]
  },
  {
   "cell_type": "code",
   "execution_count": 198,
   "metadata": {
    "collapsed": false
   },
   "outputs": [
    {
     "data": {
      "text/html": [
       "<div>\n",
       "<table border=\"1\" class=\"dataframe\">\n",
       "  <thead>\n",
       "    <tr style=\"text-align: right;\">\n",
       "      <th></th>\n",
       "      <th>Client number</th>\n",
       "      <th>Churned</th>\n",
       "      <th>active_prior_to_090916</th>\n",
       "      <th>active_prior_to_100116</th>\n",
       "      <th>active_prior_to_110116</th>\n",
       "      <th>active_prior_to_120116</th>\n",
       "      <th>active_prior_to_010117</th>\n",
       "      <th>active_prior_to_012717</th>\n",
       "    </tr>\n",
       "    <tr>\n",
       "      <th>Margin Group</th>\n",
       "      <th></th>\n",
       "      <th></th>\n",
       "      <th></th>\n",
       "      <th></th>\n",
       "      <th></th>\n",
       "      <th></th>\n",
       "      <th></th>\n",
       "      <th></th>\n",
       "    </tr>\n",
       "  </thead>\n",
       "  <tbody>\n",
       "    <tr>\n",
       "      <th>High</th>\n",
       "      <td>736411</td>\n",
       "      <td>24.0</td>\n",
       "      <td>131.0</td>\n",
       "      <td>127.0</td>\n",
       "      <td>119.0</td>\n",
       "      <td>113.0</td>\n",
       "      <td>108.0</td>\n",
       "      <td>69.0</td>\n",
       "    </tr>\n",
       "    <tr>\n",
       "      <th>Low</th>\n",
       "      <td>690157</td>\n",
       "      <td>22.0</td>\n",
       "      <td>122.0</td>\n",
       "      <td>119.0</td>\n",
       "      <td>108.0</td>\n",
       "      <td>104.0</td>\n",
       "      <td>100.0</td>\n",
       "      <td>76.0</td>\n",
       "    </tr>\n",
       "  </tbody>\n",
       "</table>\n",
       "</div>"
      ],
      "text/plain": [
       "              Client number  Churned  active_prior_to_090916  \\\n",
       "Margin Group                                                   \n",
       "High                 736411     24.0                   131.0   \n",
       "Low                  690157     22.0                   122.0   \n",
       "\n",
       "              active_prior_to_100116  active_prior_to_110116  \\\n",
       "Margin Group                                                   \n",
       "High                           127.0                   119.0   \n",
       "Low                            119.0                   108.0   \n",
       "\n",
       "              active_prior_to_120116  active_prior_to_010117  \\\n",
       "Margin Group                                                   \n",
       "High                           113.0                   108.0   \n",
       "Low                            104.0                   100.0   \n",
       "\n",
       "              active_prior_to_012717  \n",
       "Margin Group                          \n",
       "High                            69.0  \n",
       "Low                             76.0  "
      ]
     },
     "execution_count": 198,
     "metadata": {},
     "output_type": "execute_result"
    }
   ],
   "source": [
    "df_active"
   ]
  },
  {
   "cell_type": "code",
   "execution_count": 199,
   "metadata": {
    "collapsed": false
   },
   "outputs": [],
   "source": [
    "df_churn = pd.DataFrame([1-df_active.iloc[:,i+1]/df_active.iloc[:,i] for i in range(2,7)])"
   ]
  },
  {
   "cell_type": "code",
   "execution_count": 200,
   "metadata": {
    "collapsed": false
   },
   "outputs": [],
   "source": [
    "df_churn['n_high'] = df_active.iloc[0,2:-1].values\n",
    "df_churn['n_low'] = df_active.iloc[1,2:-1].values"
   ]
  },
  {
   "cell_type": "code",
   "execution_count": 201,
   "metadata": {
    "collapsed": false
   },
   "outputs": [
    {
     "data": {
      "text/plain": [
       "131.0"
      ]
     },
     "execution_count": 201,
     "metadata": {},
     "output_type": "execute_result"
    }
   ],
   "source": [
    "df_churn.iloc[0,2]"
   ]
  },
  {
   "cell_type": "code",
   "execution_count": 209,
   "metadata": {
    "collapsed": false
   },
   "outputs": [],
   "source": [
    "df_churn.loc[5] = [1-df_churn.iloc[0,-1]/df_churn.iloc[0,2], 1-df_churn.iloc[1,-1]/df_churn.iloc[1,2],\n",
    "                   df_churn.iloc[0,2], df_churn.iloc[1,2]]"
   ]
  },
  {
   "cell_type": "code",
   "execution_count": 210,
   "metadata": {
    "collapsed": false
   },
   "outputs": [
    {
     "data": {
      "text/html": [
       "<div>\n",
       "<table border=\"1\" class=\"dataframe\">\n",
       "  <thead>\n",
       "    <tr style=\"text-align: right;\">\n",
       "      <th>Margin Group</th>\n",
       "      <th>High</th>\n",
       "      <th>Low</th>\n",
       "      <th>n_high</th>\n",
       "      <th>n_low</th>\n",
       "    </tr>\n",
       "  </thead>\n",
       "  <tbody>\n",
       "    <tr>\n",
       "      <th>0</th>\n",
       "      <td>0.030534</td>\n",
       "      <td>0.024590</td>\n",
       "      <td>131.0</td>\n",
       "      <td>122.0</td>\n",
       "    </tr>\n",
       "    <tr>\n",
       "      <th>1</th>\n",
       "      <td>0.062992</td>\n",
       "      <td>0.092437</td>\n",
       "      <td>127.0</td>\n",
       "      <td>119.0</td>\n",
       "    </tr>\n",
       "    <tr>\n",
       "      <th>2</th>\n",
       "      <td>0.050420</td>\n",
       "      <td>0.037037</td>\n",
       "      <td>119.0</td>\n",
       "      <td>108.0</td>\n",
       "    </tr>\n",
       "    <tr>\n",
       "      <th>3</th>\n",
       "      <td>0.044248</td>\n",
       "      <td>0.038462</td>\n",
       "      <td>113.0</td>\n",
       "      <td>104.0</td>\n",
       "    </tr>\n",
       "    <tr>\n",
       "      <th>4</th>\n",
       "      <td>0.361111</td>\n",
       "      <td>0.240000</td>\n",
       "      <td>108.0</td>\n",
       "      <td>100.0</td>\n",
       "    </tr>\n",
       "    <tr>\n",
       "      <th>5</th>\n",
       "      <td>0.068702</td>\n",
       "      <td>0.062992</td>\n",
       "      <td>131.0</td>\n",
       "      <td>127.0</td>\n",
       "    </tr>\n",
       "  </tbody>\n",
       "</table>\n",
       "</div>"
      ],
      "text/plain": [
       "Margin Group      High       Low  n_high  n_low\n",
       "0             0.030534  0.024590   131.0  122.0\n",
       "1             0.062992  0.092437   127.0  119.0\n",
       "2             0.050420  0.037037   119.0  108.0\n",
       "3             0.044248  0.038462   113.0  104.0\n",
       "4             0.361111  0.240000   108.0  100.0\n",
       "5             0.068702  0.062992   131.0  127.0"
      ]
     },
     "execution_count": 210,
     "metadata": {},
     "output_type": "execute_result"
    }
   ],
   "source": [
    "df_churn"
   ]
  },
  {
   "cell_type": "code",
   "execution_count": 211,
   "metadata": {
    "collapsed": false
   },
   "outputs": [],
   "source": [
    "def test_stat(p1, p2, n1, n2):\n",
    "    return (p1 - p2) / np.sqrt((p1*(1-p1)/n1) + (p2*(1-p2)/n2))"
   ]
  },
  {
   "cell_type": "code",
   "execution_count": 212,
   "metadata": {
    "collapsed": false
   },
   "outputs": [],
   "source": [
    "df_churn['test_stat'] = df_churn.apply(lambda line: test_stat(line['Low'], line['High'], line['n_low'], line['n_high']), axis=1)"
   ]
  },
  {
   "cell_type": "code",
   "execution_count": 213,
   "metadata": {
    "collapsed": false
   },
   "outputs": [],
   "source": [
    "df_churn['pval'] = df_churn['test_stat'].apply(lambda x: norm.cdf(x))"
   ]
  },
  {
   "cell_type": "markdown",
   "metadata": {},
   "source": [
    "# Question 8"
   ]
  },
  {
   "cell_type": "code",
   "execution_count": 214,
   "metadata": {
    "collapsed": false
   },
   "outputs": [
    {
     "data": {
      "text/html": [
       "<div>\n",
       "<table border=\"1\" class=\"dataframe\">\n",
       "  <thead>\n",
       "    <tr style=\"text-align: right;\">\n",
       "      <th>Margin Group</th>\n",
       "      <th>High</th>\n",
       "      <th>Low</th>\n",
       "      <th>n_high</th>\n",
       "      <th>n_low</th>\n",
       "      <th>test_stat</th>\n",
       "      <th>pval</th>\n",
       "    </tr>\n",
       "  </thead>\n",
       "  <tbody>\n",
       "    <tr>\n",
       "      <th>0</th>\n",
       "      <td>0.030534</td>\n",
       "      <td>0.024590</td>\n",
       "      <td>131.0</td>\n",
       "      <td>122.0</td>\n",
       "      <td>-0.289163</td>\n",
       "      <td>0.386228</td>\n",
       "    </tr>\n",
       "    <tr>\n",
       "      <th>1</th>\n",
       "      <td>0.062992</td>\n",
       "      <td>0.092437</td>\n",
       "      <td>127.0</td>\n",
       "      <td>119.0</td>\n",
       "      <td>0.860926</td>\n",
       "      <td>0.805360</td>\n",
       "    </tr>\n",
       "    <tr>\n",
       "      <th>2</th>\n",
       "      <td>0.050420</td>\n",
       "      <td>0.037037</td>\n",
       "      <td>119.0</td>\n",
       "      <td>108.0</td>\n",
       "      <td>-0.494462</td>\n",
       "      <td>0.310490</td>\n",
       "    </tr>\n",
       "    <tr>\n",
       "      <th>3</th>\n",
       "      <td>0.044248</td>\n",
       "      <td>0.038462</td>\n",
       "      <td>113.0</td>\n",
       "      <td>104.0</td>\n",
       "      <td>-0.214181</td>\n",
       "      <td>0.415203</td>\n",
       "    </tr>\n",
       "    <tr>\n",
       "      <th>4</th>\n",
       "      <td>0.361111</td>\n",
       "      <td>0.240000</td>\n",
       "      <td>108.0</td>\n",
       "      <td>100.0</td>\n",
       "      <td>-1.924533</td>\n",
       "      <td>0.027144</td>\n",
       "    </tr>\n",
       "    <tr>\n",
       "      <th>5</th>\n",
       "      <td>0.068702</td>\n",
       "      <td>0.062992</td>\n",
       "      <td>131.0</td>\n",
       "      <td>127.0</td>\n",
       "      <td>-0.184954</td>\n",
       "      <td>0.426633</td>\n",
       "    </tr>\n",
       "  </tbody>\n",
       "</table>\n",
       "</div>"
      ],
      "text/plain": [
       "Margin Group      High       Low  n_high  n_low  test_stat      pval\n",
       "0             0.030534  0.024590   131.0  122.0  -0.289163  0.386228\n",
       "1             0.062992  0.092437   127.0  119.0   0.860926  0.805360\n",
       "2             0.050420  0.037037   119.0  108.0  -0.494462  0.310490\n",
       "3             0.044248  0.038462   113.0  104.0  -0.214181  0.415203\n",
       "4             0.361111  0.240000   108.0  100.0  -1.924533  0.027144\n",
       "5             0.068702  0.062992   131.0  127.0  -0.184954  0.426633"
      ]
     },
     "execution_count": 214,
     "metadata": {},
     "output_type": "execute_result"
    }
   ],
   "source": [
    "df_churn"
   ]
  },
  {
   "cell_type": "code",
   "execution_count": null,
   "metadata": {
    "collapsed": true
   },
   "outputs": [],
   "source": []
  }
 ],
 "metadata": {
  "anaconda-cloud": {},
  "kernelspec": {
   "display_name": "Python [default]",
   "language": "python",
   "name": "python2"
  },
  "language_info": {
   "codemirror_mode": {
    "name": "ipython",
    "version": 2
   },
   "file_extension": ".py",
   "mimetype": "text/x-python",
   "name": "python",
   "nbconvert_exporter": "python",
   "pygments_lexer": "ipython2",
   "version": "2.7.12"
  }
 },
 "nbformat": 4,
 "nbformat_minor": 1
}
