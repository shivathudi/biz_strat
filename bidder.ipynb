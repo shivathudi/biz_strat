{
 "cells": [
  {
   "cell_type": "code",
   "execution_count": 4,
   "metadata": {
    "ExecuteTime": {
     "end_time": "2017-02-16T14:02:38.589058",
     "start_time": "2017-02-16T14:02:38.425849"
    },
    "collapsed": true
   },
   "outputs": [],
   "source": [
    "import numpy as np"
   ]
  },
  {
   "cell_type": "code",
   "execution_count": 5,
   "metadata": {
    "collapsed": false
   },
   "outputs": [],
   "source": [
    "from numpy import random\n",
    "#   BidF = []\n",
    "#   for rnd in random.uniform(0,1, size = [1,10])[0]:\n",
    "#           f = lambda currentBid, bidHist, rnd2=rnd: rnd2\n",
    "#           BidF.append( f )"
   ]
  },
  {
   "cell_type": "code",
   "execution_count": 6,
   "metadata": {
    "collapsed": false
   },
   "outputs": [
    {
     "data": {
      "text/plain": [
       "array([ 0.01119695,  0.73272951,  0.07360154,  0.26588898,  0.43222601,\n",
       "        0.05382469,  0.91001334,  0.85000715,  0.17764414,  0.13357577])"
      ]
     },
     "execution_count": 6,
     "metadata": {},
     "output_type": "execute_result"
    }
   ],
   "source": [
    "np.random.uniform(0,1, size = [1,10])[0]"
   ]
  },
  {
   "cell_type": "code",
   "execution_count": null,
   "metadata": {
    "collapsed": true
   },
   "outputs": [],
   "source": []
  },
  {
   "cell_type": "code",
   "execution_count": null,
   "metadata": {
    "collapsed": true
   },
   "outputs": [],
   "source": []
  },
  {
   "cell_type": "code",
   "execution_count": 7,
   "metadata": {
    "ExecuteTime": {
     "end_time": "2017-02-16T23:56:31.132893",
     "start_time": "2017-02-16T23:56:31.109146"
    },
    "collapsed": false
   },
   "outputs": [],
   "source": [
    "def evaluator(price_format, auction_format, bidder_info, bid_history=[], curr_bid=0., bid_inc=0.):\n",
    "    \"\"\"\n",
    "    price_format (int): e.g. 1 for 1st price and 2 for 2nd price\n",
    "    auction_format (str): 'OO' for open outcry and 'SB' for sealed bid\n",
    "    bid_history (ordered list of dict): \n",
    "        For SB: e.g. [{\"Round\": 1, \"Value\": None ,  \"Bids\": [1.25, 0, .85] }]\n",
    "        For OO: e.g. [{ \"Round\" : 1, \"Value\": .25,  \"Bids\": [1, 1, 1]},\n",
    "                      { \"Round\" : 2, \"Value\": .5,  \"Bids\": [1, 1, 0]},\n",
    "                      { \"Round\" : 3, \"Value\": .75,  \"Bids\": [1, 0, 0]}]\n",
    "    bidder_info (list of dict):\n",
    "        e.g. [{\"BidderName\" : \"Bidder 1\", \"BidFunction\" : B1},\n",
    "              {\"BidderName\" : \"Bidder 2\", \"BidFunction\" : B2},\n",
    "              {\"BidderName\" : \"Bidder 3\", \"BidFunction\" : B3},\n",
    "              {\"BidderName\" : \"Bidder 4\", \"BidFunction\" : B4}]\n",
    "    curr_bid (float): current value to bid (only for OO)\n",
    "    bid_inc (float): bid increase each round (only for OO)\n",
    "    returns (winning_bidder_name (str), winning_bid_value (float))\n",
    "    \"\"\"\n",
    "    if auction_format == 'SB':\n",
    "        bids = []\n",
    "        bidders = []\n",
    "        max_bid = 0\n",
    "        for bidder in bidder_info:\n",
    "            bids.append(bidder['BidFunction'](curr_bid, bid_history))\n",
    "            bidders.append(bidder['BidderName'])\n",
    "        return np.random.choice(np.array(bidders)[np.array(bids)==max(bids)]), sorted(bids, reverse=True)[price_format - 1]\n",
    "    \n",
    "    if auction_format == 'OO':\n",
    "        n_round = len(bid_history) + 1\n",
    "        bids = np.array([1 if bidder['BidFunction'](curr_bid, bid_history) >= curr_bid else 0 for bidder in bidder_info])\n",
    "        bid_history.append({\"Round\": n_round, \"Value\": curr_bid, \"Bids\": bids})\n",
    "        if max(bids) == 0: # no one bids in the current round\n",
    "            if n_round - 1 < price_format: # not enough rounds with bids to have a winner given the price format\n",
    "                return None, None\n",
    "            bids = np.array(bid_history[-price_format-1]['Bids']) # else trace back the history to find the winning bid\n",
    "            return bidder_info[np.random.choice(np.arange(len(bidder_info))[bids==1])]['BidderName'], bid_history[-price_format-1]['Value']\n",
    "        if sum(bids==1) == 1: # there is only 1 bidder in the current round\n",
    "            return bidder_info[np.argmax(bids)]['BidderName'], curr_bid\n",
    "        # else there are more than one bidder. Go to the next round with increased value\n",
    "        return evaluator(price_format, auction_format, bidder_info, bid_history, curr_bid + bid_inc, bid_inc)\n",
    "    print 'Invalid auction format'\n",
    "    return None"
   ]
  },
  {
   "cell_type": "markdown",
   "metadata": {
    "ExecuteTime": {
     "end_time": "2017-02-16T15:30:23.185770",
     "start_time": "2017-02-16T15:30:23.181338"
    }
   },
   "source": [
    "### Case (a)"
   ]
  },
  {
   "cell_type": "code",
   "execution_count": 8,
   "metadata": {
    "ExecuteTime": {
     "end_time": "2017-02-16T23:32:10.946410",
     "start_time": "2017-02-16T23:32:10.942487"
    },
    "collapsed": false
   },
   "outputs": [],
   "source": [
    "BF = []\n",
    "for b in np.arange(0, 1, 0.1):\n",
    "    BF.append(lambda curr_bid, bid_history, val=b: val)\n",
    "BI = [{'BidderName': 'Bidder %s' %str(i+1), 'BidFunction': BF[i]} for i in range(10)]"
   ]
  },
  {
   "cell_type": "code",
   "execution_count": 9,
   "metadata": {
    "ExecuteTime": {
     "end_time": "2017-02-16T23:44:45.986029",
     "start_time": "2017-02-16T23:44:45.982184"
    },
    "collapsed": false
   },
   "outputs": [
    {
     "name": "stdout",
     "output_type": "stream",
     "text": [
      "The winner is Bidder 10, with revenue of 0.80\n"
     ]
    }
   ],
   "source": [
    "winner, revenue = evaluator(2, 'SB', BI)\n",
    "print 'The winner is %s, with revenue of %.2f' %(winner, revenue)"
   ]
  },
  {
   "cell_type": "markdown",
   "metadata": {
    "ExecuteTime": {
     "end_time": "2017-02-16T23:36:22.087633",
     "start_time": "2017-02-16T23:36:22.081630"
    }
   },
   "source": [
    "### Case (b)"
   ]
  },
  {
   "cell_type": "code",
   "execution_count": 10,
   "metadata": {
    "ExecuteTime": {
     "end_time": "2017-02-16T23:47:48.438303",
     "start_time": "2017-02-16T23:47:48.434472"
    },
    "collapsed": false
   },
   "outputs": [],
   "source": [
    "BF = []\n",
    "for b in np.arange(0, 1, 0.1):\n",
    "    BF.append(lambda curr_bid, bid_history, val=b: 9. * val / 10.)\n",
    "BI = [{'BidderName': 'Bidder %s' %str(i+1), 'BidFunction': BF[i]} for i in range(10)]"
   ]
  },
  {
   "cell_type": "code",
   "execution_count": 11,
   "metadata": {
    "ExecuteTime": {
     "end_time": "2017-02-16T23:47:56.174158",
     "start_time": "2017-02-16T23:47:56.170829"
    },
    "collapsed": false
   },
   "outputs": [
    {
     "name": "stdout",
     "output_type": "stream",
     "text": [
      "The winner is Bidder 10, with revenue of 0.81\n"
     ]
    }
   ],
   "source": [
    "winner, revenue = evaluator(1, 'SB', BI)\n",
    "print 'The winner is %s, with revenue of %.2f' %(winner, revenue)"
   ]
  },
  {
   "cell_type": "markdown",
   "metadata": {},
   "source": [
    "### Case (c)"
   ]
  },
  {
   "cell_type": "code",
   "execution_count": 16,
   "metadata": {
    "ExecuteTime": {
     "end_time": "2017-02-16T23:56:36.321486",
     "start_time": "2017-02-16T23:56:36.317576"
    },
    "collapsed": true
   },
   "outputs": [],
   "source": [
    "BF = []\n",
    "for b in np.arange(0, 1, 0.1):\n",
    "    BF.append(lambda curr_bid, bid_history, val=b: val)\n",
    "BI = [{'BidderName': 'Bidder %s' %str(i+1), 'BidFunction': BF[i]} for i in range(10)]"
   ]
  },
  {
   "cell_type": "code",
   "execution_count": 17,
   "metadata": {
    "ExecuteTime": {
     "end_time": "2017-02-16T23:57:34.454741",
     "start_time": "2017-02-16T23:57:34.450358"
    },
    "collapsed": false
   },
   "outputs": [
    {
     "name": "stdout",
     "output_type": "stream",
     "text": [
      "The winner is Bidder 10, with revenue of 0.80\n",
      "17 rounds of auction was needed\n"
     ]
    }
   ],
   "source": [
    "BH = []\n",
    "winner, revenue = evaluator(2, 'OO', BI, BH, 0, 0.05)\n",
    "print 'The winner is %s, with revenue of %.2f\\n%d rounds of auction was needed' %(winner, revenue, len(BH))"
   ]
  },
  {
   "cell_type": "code",
   "execution_count": null,
   "metadata": {
    "collapsed": true
   },
   "outputs": [],
   "source": []
  },
  {
   "cell_type": "code",
   "execution_count": null,
   "metadata": {
    "collapsed": true
   },
   "outputs": [],
   "source": []
  },
  {
   "cell_type": "code",
   "execution_count": null,
   "metadata": {
    "collapsed": true
   },
   "outputs": [],
   "source": []
  },
  {
   "cell_type": "code",
   "execution_count": null,
   "metadata": {
    "collapsed": true
   },
   "outputs": [],
   "source": []
  }
 ],
 "metadata": {
  "kernelspec": {
   "display_name": "Python [default]",
   "language": "python",
   "name": "python2"
  },
  "language_info": {
   "codemirror_mode": {
    "name": "ipython",
    "version": 2
   },
   "file_extension": ".py",
   "mimetype": "text/x-python",
   "name": "python",
   "nbconvert_exporter": "python",
   "pygments_lexer": "ipython2",
   "version": "2.7.12"
  }
 },
 "nbformat": 4,
 "nbformat_minor": 1
}
