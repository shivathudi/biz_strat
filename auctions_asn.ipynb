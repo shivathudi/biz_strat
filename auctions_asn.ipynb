{
 "cells": [
  {
   "cell_type": "code",
   "execution_count": 13,
   "metadata": {
    "collapsed": true
   },
   "outputs": [],
   "source": [
    "import numpy as np"
   ]
  },
  {
   "cell_type": "code",
   "execution_count": 14,
   "metadata": {
    "collapsed": true
   },
   "outputs": [],
   "source": [
    "def auction_eval(price_format, auction_format, bidder_info, bid_history=[], current_bid=0.0, bid_increment=0.0):\n",
    "    if auction_format == \"SB\":\n",
    "        list_bidder = []\n",
    "        list_bids = []\n",
    "\n",
    "        for bidder in bidder_info:\n",
    "            list_bidder.append(bidder['BidderName'])\n",
    "            list_bids.append(bidder['BidFunction'](current_bid, bid_history))\n",
    "\n",
    "        bid_history.append({\"Round\": 1, \"Value\": None, \"Bids\": list_bids})\n",
    "\n",
    "        max_bid = max(list_bids)\n",
    "        winners = [list_bidder[i] for i in range(len(list_bidder)) if list_bids[i] == max_bid]\n",
    "\n",
    "        winner = np.random.choice(winners)\n",
    "        pay = sorted(list_bids, reverse=True)[price_format-1]\n",
    "\n",
    "    elif auction_format == \"OO\":\n",
    "        list_bidder = []\n",
    "        list_bids = []\n",
    "\n",
    "        for bidder in bidder_info:\n",
    "            list_bidder.append(bidder['BidderName'])\n",
    "            list_bids.append(bidder['BidFunction'](current_bid, bid_history))\n",
    "\n",
    "        bid_history.append({\"Round\": len(bid_history)+1, \"Value\": current_bid, \"Bids\": list_bids})\n",
    "\n",
    "        if sum(list_bids) == 1: # If there is a winner this round\n",
    "            max_index = list_bids.index(1)\n",
    "            winner = list_bidder[max_index]\n",
    "            pay = bid_history[-price_format]['Value']\n",
    "\n",
    "        elif sum(list_bids) == 0: # if everyone quits\n",
    "\n",
    "            if len(bid_history) == 1: # if everyone quits at first round\n",
    "                winner = None\n",
    "                pay = None\n",
    "            else: # find the winner from previous round\n",
    "                list_previous_bids = bid_history[-2]['Bids']\n",
    "                winners = [list_bidder[i] for i in range(len(list_bidder)) if list_previous_bids[i] == 1]\n",
    "                winner = np.random.choice(winners)\n",
    "\n",
    "                # check if there is enough history to go back to.\n",
    "                if len(bid_history) < price_format:\n",
    "                    pay = bid_history[0]['Value']\n",
    "                else:\n",
    "                    pay = bid_history[-max(price_format, 2)]['Value']\n",
    "\n",
    "        else: # If there is more than one person bidding\n",
    "            sum(list_bids) > 1\n",
    "            winner, pay = auction_eval(price_format, auction_format, bidder_info,\n",
    "                                       bid_history, current_bid+bid_increment, bid_increment)\n",
    "\n",
    "    else:\n",
    "        print \"Invalid Auction Format\"\n",
    "        winner = None\n",
    "        pay = None\n",
    "\n",
    "    return winner, pay"
   ]
  },
  {
   "cell_type": "markdown",
   "metadata": {},
   "source": [
    "### Case (a)"
   ]
  },
  {
   "cell_type": "code",
   "execution_count": 15,
   "metadata": {
    "collapsed": false
   },
   "outputs": [
    {
     "name": "stdout",
     "output_type": "stream",
     "text": [
      "Sealed Bid, 2nd price, Winner: Bidder 10 Pay: 0.8\n"
     ]
    }
   ],
   "source": [
    "BidF = []\n",
    "for i in np.arange(0, 1, 0.1):\n",
    "    f = lambda currentBid, bidHist, bid_value=i: bid_value\n",
    "    BidF.append(f)\n",
    "\n",
    "BI = [{\"BidderName\": \"Bidder %d\" % (i+1), \"BidFunction\": BidF[i]} for i in range(10)]\n",
    "\n",
    "winner, pay = auction_eval(2, \"SB\", BI)\n",
    "\n",
    "print \"Sealed Bid, 2nd price, Winner:\", winner, \"Pay:\", pay"
   ]
  },
  {
   "cell_type": "markdown",
   "metadata": {},
   "source": [
    "### Case (b)"
   ]
  },
  {
   "cell_type": "code",
   "execution_count": 16,
   "metadata": {
    "collapsed": false
   },
   "outputs": [
    {
     "name": "stdout",
     "output_type": "stream",
     "text": [
      "Sealed Bid, 1st price, Winner: Bidder 10 Pay: 0.81\n"
     ]
    }
   ],
   "source": [
    "BidF = []\n",
    "for i in np.arange(0, 1, 0.1):\n",
    "    f = lambda currentBid, bidHist, bid_value=i: 9.0*bid_value/10.0\n",
    "    BidF.append(f)\n",
    "\n",
    "BI = [{\"BidderName\": \"Bidder %d\" % (i+1), \"BidFunction\": BidF[i]} for i in range(10)]\n",
    "\n",
    "winner, pay = auction_eval(1, \"SB\", BI)\n",
    "\n",
    "print \"Sealed Bid, 1st price, Winner:\", winner, \"Pay:\", pay"
   ]
  },
  {
   "cell_type": "markdown",
   "metadata": {},
   "source": [
    "### Case (c)"
   ]
  },
  {
   "cell_type": "code",
   "execution_count": 17,
   "metadata": {
    "collapsed": false
   },
   "outputs": [
    {
     "name": "stdout",
     "output_type": "stream",
     "text": [
      "Open Outcry, 2nd price, Winner: Bidder 10 Pay: 0.75 Round 17\n",
      "{'Bids': [0, 1, 1, 1, 1, 1, 1, 1, 1, 1], 'Round': 1, 'Value': 0}\n",
      "{'Bids': [0, 1, 1, 1, 1, 1, 1, 1, 1, 1], 'Round': 2, 'Value': 0.05}\n",
      "{'Bids': [0, 0, 1, 1, 1, 1, 1, 1, 1, 1], 'Round': 3, 'Value': 0.1}\n",
      "{'Bids': [0, 0, 1, 1, 1, 1, 1, 1, 1, 1], 'Round': 4, 'Value': 0.15000000000000002}\n",
      "{'Bids': [0, 0, 0, 1, 1, 1, 1, 1, 1, 1], 'Round': 5, 'Value': 0.2}\n",
      "{'Bids': [0, 0, 0, 1, 1, 1, 1, 1, 1, 1], 'Round': 6, 'Value': 0.25}\n",
      "{'Bids': [0, 0, 0, 1, 1, 1, 1, 1, 1, 1], 'Round': 7, 'Value': 0.3}\n",
      "{'Bids': [0, 0, 0, 0, 1, 1, 1, 1, 1, 1], 'Round': 8, 'Value': 0.35}\n",
      "{'Bids': [0, 0, 0, 0, 1, 1, 1, 1, 1, 1], 'Round': 9, 'Value': 0.39999999999999997}\n",
      "{'Bids': [0, 0, 0, 0, 0, 1, 1, 1, 1, 1], 'Round': 10, 'Value': 0.44999999999999996}\n",
      "{'Bids': [0, 0, 0, 0, 0, 1, 1, 1, 1, 1], 'Round': 11, 'Value': 0.49999999999999994}\n",
      "{'Bids': [0, 0, 0, 0, 0, 0, 1, 1, 1, 1], 'Round': 12, 'Value': 0.5499999999999999}\n",
      "{'Bids': [0, 0, 0, 0, 0, 0, 1, 1, 1, 1], 'Round': 13, 'Value': 0.6}\n",
      "{'Bids': [0, 0, 0, 0, 0, 0, 0, 1, 1, 1], 'Round': 14, 'Value': 0.65}\n",
      "{'Bids': [0, 0, 0, 0, 0, 0, 0, 0, 1, 1], 'Round': 15, 'Value': 0.7000000000000001}\n",
      "{'Bids': [0, 0, 0, 0, 0, 0, 0, 0, 1, 1], 'Round': 16, 'Value': 0.7500000000000001}\n",
      "{'Bids': [0, 0, 0, 0, 0, 0, 0, 0, 0, 1], 'Round': 17, 'Value': 0.8000000000000002}\n"
     ]
    }
   ],
   "source": [
    "BidF = []\n",
    "for i in np.arange(0, 1, 0.1):\n",
    "    f = lambda currentBid, bidHist, value=i: int(value>currentBid)\n",
    "    BidF.append(f)\n",
    "\n",
    "BI = [{\"BidderName\": \"Bidder %d\" % (i+1), \"BidFunction\": BidF[i]} for i in range(10)]\n",
    "\n",
    "bid_history = []\n",
    "winner, pay = auction_eval(2, \"OO\", BI, bid_history, current_bid=0, bid_increment=0.05)\n",
    "\n",
    "print \"Open Outcry, 2nd price, Winner:\", winner, \"Pay:\", pay, \"Round\", len(bid_history)\n",
    "for i in bid_history:\n",
    "    print i"
   ]
  },
  {
   "cell_type": "code",
   "execution_count": null,
   "metadata": {
    "collapsed": true
   },
   "outputs": [],
   "source": []
  },
  {
   "cell_type": "markdown",
   "metadata": {},
   "source": [
    "## Part 2"
   ]
  },
  {
   "cell_type": "markdown",
   "metadata": {},
   "source": [
    "### Part (a) "
   ]
  },
  {
   "cell_type": "code",
   "execution_count": 422,
   "metadata": {
    "collapsed": false
   },
   "outputs": [],
   "source": [
    "def run_simulation(price_format, lambda_param, n_bidders, bidding_function = lambda x: x, n_sims = 100000):\n",
    "    \n",
    "    pays_list = []\n",
    "    for i in range(n_sims):\n",
    "            BidF = []\n",
    "            for i in range(n_bidders):\n",
    "                f = lambda currentBid, bidHist, value=np.random.exponential(scale = 1.0/lambda_param): bidding_function(value)\n",
    "                BidF.append(f)\n",
    "\n",
    "            BI = [{\"BidderName\": \"Bidder %d\" % (i+1), \"BidFunction\": BidF[i]} for i in range(n_bidders)]\n",
    "\n",
    "            bid_history = []\n",
    "            winner, pay = auction_eval(price_format, \"SB\", BI, bid_history, current_bid=0, bid_increment=0.01)\n",
    "            pays_list.append(pay)\n",
    "    \n",
    "    print \"Open Outcry, Price Format : %s, Lambda: %s, Number of Bidders: %s, Expected_Revenue: %s\" % (price_format, lambda_param, n_bidders, np.mean(pays_list))\n",
    "        \n",
    "    \n",
    "    \n",
    "    "
   ]
  },
  {
   "cell_type": "markdown",
   "metadata": {},
   "source": [
    "#### N_SIMS = 100,000"
   ]
  },
  {
   "cell_type": "code",
   "execution_count": 423,
   "metadata": {
    "collapsed": false
   },
   "outputs": [
    {
     "name": "stdout",
     "output_type": "stream",
     "text": [
      "Open Outcry, Price Format : 2, Lambda: 1, Number of Bidders: 2, Expected_Revenue: 0.500850602868\n",
      "Open Outcry, Price Format : 2, Lambda: 1, Number of Bidders: 5, Expected_Revenue: 1.28285729143\n",
      "Open Outcry, Price Format : 2, Lambda: 1, Number of Bidders: 10, Expected_Revenue: 1.92965998828\n",
      "Open Outcry, Price Format : 2, Lambda: 10, Number of Bidders: 2, Expected_Revenue: 0.0500227374273\n",
      "Open Outcry, Price Format : 2, Lambda: 10, Number of Bidders: 5, Expected_Revenue: 0.12815828871\n",
      "Open Outcry, Price Format : 2, Lambda: 10, Number of Bidders: 10, Expected_Revenue: 0.19311500942\n"
     ]
    }
   ],
   "source": [
    "for lambda_param in [1,10]:\n",
    "    for n_bidders in [2, 5, 10]:\n",
    "        run_simulation(2, lambda_param, n_bidders)"
   ]
  },
  {
   "cell_type": "markdown",
   "metadata": {},
   "source": [
    "#### N_SIMS = 1000"
   ]
  },
  {
   "cell_type": "code",
   "execution_count": 424,
   "metadata": {
    "collapsed": false
   },
   "outputs": [
    {
     "name": "stdout",
     "output_type": "stream",
     "text": [
      "Open Outcry, Price Format : 2, Lambda: 1, Number of Bidders: 2, Expected_Revenue: 0.501519201913\n",
      "Open Outcry, Price Format : 2, Lambda: 1, Number of Bidders: 5, Expected_Revenue: 1.29180656987\n",
      "Open Outcry, Price Format : 2, Lambda: 1, Number of Bidders: 10, Expected_Revenue: 1.88159129749\n",
      "Open Outcry, Price Format : 2, Lambda: 10, Number of Bidders: 2, Expected_Revenue: 0.0501256965536\n",
      "Open Outcry, Price Format : 2, Lambda: 10, Number of Bidders: 5, Expected_Revenue: 0.128950660059\n",
      "Open Outcry, Price Format : 2, Lambda: 10, Number of Bidders: 10, Expected_Revenue: 0.191332214275\n"
     ]
    }
   ],
   "source": [
    "for lambda_param in [1,10]:\n",
    "    for n_bidders in [2, 5, 10]:\n",
    "        run_simulation(2, lambda_param, n_bidders, n_sims = 1000)"
   ]
  },
  {
   "cell_type": "code",
   "execution_count": null,
   "metadata": {
    "collapsed": true
   },
   "outputs": [],
   "source": []
  },
  {
   "cell_type": "markdown",
   "metadata": {},
   "source": [
    "## Part (c)"
   ]
  },
  {
   "cell_type": "markdown",
   "metadata": {},
   "source": [
    "## 2 bidders"
   ]
  },
  {
   "cell_type": "code",
   "execution_count": 425,
   "metadata": {
    "collapsed": true
   },
   "outputs": [],
   "source": [
    "def bid_function_two_bidders(value, lambda_param):\n",
    "    return (1.0/lambda_param) - (value/(np.exp(lambda_param*value*1.0) - 1))"
   ]
  },
  {
   "cell_type": "markdown",
   "metadata": {},
   "source": [
    "### 100, 000 simulations"
   ]
  },
  {
   "cell_type": "code",
   "execution_count": 426,
   "metadata": {
    "collapsed": false,
    "scrolled": true
   },
   "outputs": [
    {
     "name": "stdout",
     "output_type": "stream",
     "text": [
      "Open Outcry, Price Format : 1, Lambda: 1, Number of Bidders: 2, Expected_Revenue: 0.499212683399\n",
      "Open Outcry, Price Format : 1, Lambda: 10, Number of Bidders: 2, Expected_Revenue: 0.0499471991679\n"
     ]
    }
   ],
   "source": [
    "for lambda_param in [1,10]:\n",
    "    run_simulation(1, lambda_param, 2, bidding_function = lambda x: bid_function_two_bidders(x, lambda_param))"
   ]
  },
  {
   "cell_type": "markdown",
   "metadata": {},
   "source": [
    "### 10,000 simulations"
   ]
  },
  {
   "cell_type": "code",
   "execution_count": 427,
   "metadata": {
    "collapsed": false
   },
   "outputs": [
    {
     "name": "stdout",
     "output_type": "stream",
     "text": [
      "Open Outcry, Price Format : 1, Lambda: 1, Number of Bidders: 2, Expected_Revenue: 0.504602844899\n",
      "Open Outcry, Price Format : 1, Lambda: 10, Number of Bidders: 2, Expected_Revenue: 0.0516618381194\n"
     ]
    }
   ],
   "source": [
    "for lambda_param in [1,10]:\n",
    "    run_simulation(1, lambda_param, 2, bidding_function = lambda x: bid_function_two_bidders(x, lambda_param), n_sims = 1000)"
   ]
  },
  {
   "cell_type": "code",
   "execution_count": null,
   "metadata": {
    "collapsed": true
   },
   "outputs": [],
   "source": []
  },
  {
   "cell_type": "markdown",
   "metadata": {},
   "source": [
    "### 5 bidders"
   ]
  },
  {
   "cell_type": "code",
   "execution_count": 428,
   "metadata": {
    "collapsed": true
   },
   "outputs": [],
   "source": [
    "def bid_function_five_bidders(value, lambda_param):\n",
    "    \"\"\"\n",
    "    (e^(4 λ v) (12 λ v - 25) + 16 e^(λ v) - 36 e^(2 λ v) + 48 e^(3 λ v) - 3)/(12 λ (e^(λ v) - 1)^4)\n",
    "    \"\"\"\n",
    "    return value - (((np.exp(4 * lambda_param * value) * ((12 * lambda_param * value) - 25)) + \n",
    "                      (16 * np.exp(lambda_param * value)) - (36* np.exp(2 * lambda_param * value))\n",
    "                     + (48 * np.exp(3 * lambda_param * value) - 3))\n",
    "                    /((12 * lambda_param* ((np.exp(lambda_param * value) - 1))**4)))"
   ]
  },
  {
   "cell_type": "code",
   "execution_count": null,
   "metadata": {
    "collapsed": true
   },
   "outputs": [],
   "source": []
  },
  {
   "cell_type": "markdown",
   "metadata": {},
   "source": [
    "### 1000 simulations"
   ]
  },
  {
   "cell_type": "code",
   "execution_count": 450,
   "metadata": {
    "collapsed": false
   },
   "outputs": [
    {
     "name": "stdout",
     "output_type": "stream",
     "text": [
      "Open Outcry, Price Format : 1, Lambda: 1, Number of Bidders: 5, Expected_Revenue: 1.28063751602\n",
      "Open Outcry, Price Format : 1, Lambda: 10, Number of Bidders: 5, Expected_Revenue: 0.133537930498\n"
     ]
    }
   ],
   "source": [
    "for lambda_param in [1,10]:\n",
    "    run_simulation(1, lambda_param, 5, bidding_function = lambda x: bid_function_five_bidders(x, lambda_param), n_sims = 1000)"
   ]
  },
  {
   "cell_type": "markdown",
   "metadata": {},
   "source": [
    "### 100 simulations"
   ]
  },
  {
   "cell_type": "code",
   "execution_count": 453,
   "metadata": {
    "collapsed": false
   },
   "outputs": [
    {
     "name": "stdout",
     "output_type": "stream",
     "text": [
      "Open Outcry, Price Format : 1, Lambda: 1, Number of Bidders: 5, Expected_Revenue: 1.25051987019\n",
      "Open Outcry, Price Format : 1, Lambda: 10, Number of Bidders: 5, Expected_Revenue: 0.132006548946\n"
     ]
    }
   ],
   "source": [
    "for lambda_param in [1,10]:\n",
    "    run_simulation(1, lambda_param, 5, bidding_function = lambda x: bid_function_five_bidders(x, lambda_param), n_sims = 100)"
   ]
  },
  {
   "cell_type": "markdown",
   "metadata": {},
   "source": [
    "### 10 bidders"
   ]
  },
  {
   "cell_type": "code",
   "execution_count": 454,
   "metadata": {
    "collapsed": true
   },
   "outputs": [],
   "source": [
    "def bid_function_ten_bidders(value, lambda_param):\n",
    "    \"\"\"\n",
    "    (280 - 2835*E^(v*λ) + 12960*E^(2*v*λ) - \n",
    "   35280*E^(3*v*λ) + 63504*E^(4*v*λ) - \n",
    "   79380*E^(5*v*λ) + 70560*E^(6*v*λ) - \n",
    "   45360*E^(7*v*λ) + 22680*E^(8*v*λ) + \n",
    "   E^(9*v*λ)*(-7129 + 2520*v*λ))/\n",
    "  (2520*(-1 + E^(v*λ))^9*λ)\n",
    "    \"\"\"\n",
    "    \n",
    "    return value - ((280 - 2835*np.exp(value * lambda_param) + 12960*np.exp(2*value * lambda_param) - \n",
    "   35280*np.exp(3*value * lambda_param) + 63504*np.exp(4*value * lambda_param) - \n",
    "   79380*np.exp(5*value * lambda_param) + 70560*np.exp(6*value * lambda_param) - \n",
    "   45360*np.exp(7*value * lambda_param) + 22680*np.exp(8*value * lambda_param) + \n",
    "   np.exp(9*value * lambda_param)*(-7129 + 2520*value * lambda_param))/\n",
    "  (2520*(-1 + np.exp(value * lambda_param))**9*lambda_param))"
   ]
  },
  {
   "cell_type": "markdown",
   "metadata": {},
   "source": [
    "### 1 simulation"
   ]
  },
  {
   "cell_type": "code",
   "execution_count": 470,
   "metadata": {
    "collapsed": false
   },
   "outputs": [
    {
     "name": "stdout",
     "output_type": "stream",
     "text": [
      "Open Outcry, Price Format : 1, Lambda: 1, Number of Bidders: 10, Expected_Revenue: 1.63828592529\n",
      "Open Outcry, Price Format : 1, Lambda: 10, Number of Bidders: 10, Expected_Revenue: 0.236923779012\n"
     ]
    }
   ],
   "source": [
    "for lambda_param in [1,10]:\n",
    "    run_simulation(1, lambda_param, 10, bidding_function = lambda x: bid_function_ten_bidders(x, lambda_param), n_sims = 1)"
   ]
  },
  {
   "cell_type": "code",
   "execution_count": null,
   "metadata": {
    "collapsed": true
   },
   "outputs": [],
   "source": []
  },
  {
   "cell_type": "code",
   "execution_count": null,
   "metadata": {
    "collapsed": true
   },
   "outputs": [],
   "source": []
  },
  {
   "cell_type": "markdown",
   "metadata": {},
   "source": [
    "### Functions to help in-class auction"
   ]
  },
  {
   "cell_type": "code",
   "execution_count": 64,
   "metadata": {
    "collapsed": true
   },
   "outputs": [],
   "source": [
    "def bid_function_first_price(n_bidders, values_function, function_param, values_range, step_size, trials = 10000):\n",
    "    \n",
    "    steps = np.arange(values_range[0], values_range[-1] + step_size, step_size)\n",
    "    \n",
    "    cdf =[]\n",
    "    \n",
    "    for val in steps:\n",
    "        \n",
    "        events = []\n",
    "        for trial in range(trials):\n",
    "            bids_sim = values_function(*(function_param + [n_bidders-1]))\n",
    "            events.append(1 if val >= max(bids_sim) else 0)\n",
    "            \n",
    "        cdf.append(np.mean(events))\n",
    "        \n",
    "    integrals = np.cumsum(np.array(cdf)*step_size)    \n",
    "    \n",
    "    bid_function = steps - np.divide(integrals, np.array([0.0000001]+ cdf[1:]))\n",
    "\n",
    "    return steps, cdf, bid_function"
   ]
  },
  {
   "cell_type": "code",
   "execution_count": 65,
   "metadata": {
    "collapsed": false
   },
   "outputs": [
    {
     "name": "stderr",
     "output_type": "stream",
     "text": [
      "/Users/shivakanththudi/anaconda/lib/python2.7/site-packages/ipykernel/__main__.py:18: RuntimeWarning: invalid value encountered in divide\n"
     ]
    }
   ],
   "source": [
    "steps, cdf, bid_function = bid_function_first_price(5, np.random.exponential, [1.0/1], [0,5], 0.01)"
   ]
  },
  {
   "cell_type": "code",
   "execution_count": 23,
   "metadata": {
    "collapsed": true
   },
   "outputs": [],
   "source": [
    "def bid_function_two_bidders(value, lambda_param):\n",
    "    return (1.0/lambda_param) - (value/(np.exp(lambda_param*value*1.0) - 1))\n",
    "    "
   ]
  },
  {
   "cell_type": "code",
   "execution_count": 66,
   "metadata": {
    "collapsed": false
   },
   "outputs": [
    {
     "name": "stderr",
     "output_type": "stream",
     "text": [
      "/Users/shivakanththudi/anaconda/lib/python2.7/site-packages/ipykernel/__main__.py:8: RuntimeWarning: invalid value encountered in double_scalars\n"
     ]
    }
   ],
   "source": [
    "check_values = [bid_function_five_bidders(each, 1.0) for each in steps]"
   ]
  },
  {
   "cell_type": "code",
   "execution_count": 67,
   "metadata": {
    "collapsed": false
   },
   "outputs": [
    {
     "data": {
      "image/png": "[encoded data removed]",
      "text/plain": [
       "<matplotlib.figure.Figure at 0x10bd0ae50>"
      ]
     },
     "metadata": {},
     "output_type": "display_data"
    }
   ],
   "source": [
    "import matplotlib.pyplot as plt\n",
    "fig, ax = plt.subplots()\n",
    "\n",
    "ax.plot(steps, bid_function, label='Simulation')\n",
    "ax.plot(steps, check_values, label='Actual')\n",
    "\n",
    "legend = ax.legend(loc='upper center', shadow=True)\n",
    "frame = legend.get_frame()\n",
    "frame.set_facecolor('0.90')\n",
    "plt.show()"
   ]
  },
  {
   "cell_type": "code",
   "execution_count": null,
   "metadata": {
    "collapsed": true
   },
   "outputs": [],
   "source": []
  }
 ],
 "metadata": {
  "anaconda-cloud": {},
  "kernelspec": {
   "display_name": "Python [conda root]",
   "language": "python",
   "name": "conda-root-py"
  },
  "language_info": {
   "codemirror_mode": {
    "name": "ipython",
    "version": 2
   },
   "file_extension": ".py",
   "mimetype": "text/x-python",
   "name": "python",
   "nbconvert_exporter": "python",
   "pygments_lexer": "ipython2",
   "version": "2.7.12"
  }
 },
 "nbformat": 4,
 "nbformat_minor": 1
}
